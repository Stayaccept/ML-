{
 "cells": [
  {
   "cell_type": "markdown",
   "metadata": {},
   "source": [
    "## Naive Bayes\n",
    "- 数据集\n",
    "$$sklearn.datasets.load\\_digits$$\n",
    "- 输出\n",
    "$$y=\\mathop{\\arg\\min}_{c_k}P(Y=c_k)\\prod_jP(X^{(j)}=x^{(j)}|Y=c_k)$$"
   ]
  },
  {
   "cell_type": "code",
   "execution_count": 1,
   "metadata": {},
   "outputs": [],
   "source": [
    "import math\n",
    "import numpy as np\n",
    "import pandas as pd\n",
    "import matplotlib.pyplot as plt\n",
    "from sklearn.datasets import load_digits\n",
    "from sklearn.model_selection import train_test_split"
   ]
  },
  {
   "cell_type": "code",
   "execution_count": 2,
   "metadata": {},
   "outputs": [],
   "source": [
    "X,Y=load_digits(return_X_y=True)\n",
    "Train_x,Val_x,Train_y,Val_y=train_test_split(X,Y,test_size=0.2)"
   ]
  },
  {
   "cell_type": "code",
   "execution_count": 3,
   "metadata": {},
   "outputs": [
    {
     "data": {
      "text/plain": [
       "<matplotlib.image.AxesImage at 0x2618fd47be0>"
      ]
     },
     "execution_count": 3,
     "metadata": {},
     "output_type": "execute_result"
    },
    {
     "data": {
      "image/png": "[encoded data removed]",
      "text/plain": [
       "<Figure size 432x288 with 1 Axes>"
      ]
     },
     "metadata": {
      "needs_background": "light"
     },
     "output_type": "display_data"
    }
   ],
   "source": [
    "plt.imshow(X[0].reshape(8,8))"
   ]
  },
  {
   "cell_type": "code",
   "execution_count": 4,
   "metadata": {},
   "outputs": [],
   "source": [
    "class Naive_Bayes():\n",
    "    def __init__(self,features,labels):\n",
    "        self.labels=labels\n",
    "        self.features=features\n",
    "        self.P_y=np.zeros(labels)\n",
    "        dic=dict(list(zip([i for i in range(16+1)],[0 for i in range(16+1)])))     ##feature range=0~16\n",
    "        self.P_x_y=[[dic.copy() for i in range(features)] for i in range(labels)]\n",
    "        \n",
    "    def fit(self,X,Y):\n",
    "        for x,y in zip(X,Y):\n",
    "            self.P_y[y]+=1\n",
    "            for i,j in enumerate(x):\n",
    "                self.P_x_y[y][i][j]=self.P_x_y[y][i].get(j,0)+1  ##P_x_y[y][i][j]: P(dim=i,feature=j|label=y),lamda=1\n",
    "        \n",
    "        for i in range(self.labels):\n",
    "            for j in range(self.features):\n",
    "                for u,v in self.P_x_y[i][j].items():\n",
    "                    self.P_x_y[i][j][u]=(self.P_x_y[i][j][u]+1)/(self.P_y[i]+len(self.P_x_y[i][j].keys()));\n",
    "                    \n",
    "        for i in range(labels):\n",
    "            self.P_y[i]=(self.P_y[i]+1)/(X.shape[0]+labels)\n",
    "                \n",
    "    def predict(self,X):\n",
    "        res=[]\n",
    "        for x in X:\n",
    "            ans=[]\n",
    "            for i in range(self.labels):\n",
    "                p=math.log(self.P_y[i])\n",
    "                for u,v in enumerate(x):\n",
    "                    p+=math.log(self.P_x_y[i][u][v])\n",
    "                ans.append(p)\n",
    "            res.append(np.argmax(ans))\n",
    "        return np.array(res)"
   ]
  },
  {
   "cell_type": "code",
   "execution_count": 5,
   "metadata": {},
   "outputs": [
    {
     "name": "stdout",
     "output_type": "stream",
     "text": [
      "Befor Train,Acc: 96.450939%\n",
      "After Train,Acc: 91.666667%\n"
     ]
    }
   ],
   "source": [
    "features,labels=len(X[0]),len(set(Y))\n",
    "clf=Naive_Bayes(features,labels)\n",
    "clf.fit(Train_x,Train_y)\n",
    "\n",
    "Y=clf.predict(Train_x)\n",
    "print(\"Befor Train,Acc: %lf%%\"%(sum(Y==Train_y)/len(Train_x)*100))\n",
    "\n",
    "Y=clf.predict(Val_x)\n",
    "print(\"After Train,Acc: %lf%%\"%(sum(Y==Val_y)/len(Val_x)*100))"
   ]
  }
 ],
 "metadata": {
  "kernelspec": {
   "display_name": "Python 3",
   "language": "python",
   "name": "python3"
  },
  "language_info": {
   "codemirror_mode": {
    "name": "ipython",
    "version": 3
   },
   "file_extension": ".py",
   "mimetype": "text/x-python",
   "name": "python",
   "nbconvert_exporter": "python",
   "pygments_lexer": "ipython3",
   "version": "3.7.3"
  }
 },
 "nbformat": 4,
 "nbformat_minor": 2
}
